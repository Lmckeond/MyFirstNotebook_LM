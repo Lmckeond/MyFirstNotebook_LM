{
 "cells": [
  {
   "cell_type": "markdown",
   "id": "c3439865-527f-48ba-bd39-7f69f05753bc",
   "metadata": {},
   "source": [
    "# Data Science Tools & Ecosystem"
   ]
  },
  {
   "cell_type": "markdown",
   "id": "5038ee7d-2e3c-40fe-ba94-b66152bbb8f2",
   "metadata": {},
   "source": [
    "In this notebook, Data Science tools and Ecosystem are summarized\n"
   ]
  },
  {
   "cell_type": "markdown",
   "id": "2012f797-f698-4a5d-8f17-0b40ec8d6c68",
   "metadata": {},
   "source": [
    " **Objectives**\n",
    " \n",
    " * Become familiar with Data Science languages\n",
    " * Understand the different types of tools used by Data Scientists\n",
    " * Become familiar with the different open-source environments used in Data Science"
   ]
  },
  {
   "cell_type": "markdown",
   "id": "f06ff4ec-1504-41f9-bed5-1119926f9311",
   "metadata": {},
   "source": [
    "Popular languages used in Data Science:\n",
    "\n",
    "1. SQL\n",
    "2. Python\n",
    "3. Julia\n",
    "4. Java\n",
    "5. Visual Studio\n",
    "6. RStudio\n",
    "\n",
    "\n",
    "\n"
   ]
  },
  {
   "cell_type": "markdown",
   "id": "84774c90-aca0-4387-942d-1832c2cd069e",
   "metadata": {},
   "source": [
    "Some commonly used libraries used in Data Science:\n",
    "\n",
    "    Data Manipulation and Analysis:\n",
    "\n",
    "    1. Panda\n",
    "    2. NumPy\n",
    "    3. SciPy\n",
    "\n",
    "    Machine Learning:\n",
    "\n",
    "    1. Skikit-learn\n",
    "    2. TensorFlow\n",
    "    3. PyTorch\n",
    "\n",
    "    Data Visualization:\n",
    "\n",
    "    1. Matplotlib\n",
    "    2. Plotly\n",
    "    3. Seaborn"
   ]
  },
  {
   "cell_type": "markdown",
   "id": "f9fe0381-a082-42b9-bb86-1585a384515c",
   "metadata": {},
   "source": [
    "| Data Science Tools |\n",
    "|--------------------|\n",
    "| Jupyter Notebook |\n",
    "| RStudio |\n",
    "| Visual Studio Code |"
   ]
  },
  {
   "cell_type": "markdown",
   "id": "8286fcf9-811d-40f7-b24c-172edb6d9258",
   "metadata": {},
   "source": [
    "### Below are a few examples evaluating arithmetic expressions on python:"
   ]
  },
  {
   "cell_type": "markdown",
   "id": "56770fc3-fa29-45c7-95f3-9b1dad0d79d7",
   "metadata": {},
   "source": [
    "This is a simple arithmetic expression to multiply then add intergers"
   ]
  },
  {
   "cell_type": "code",
   "execution_count": 39,
   "id": "ba3592dd-5b01-433b-9f26-6289ad0a092c",
   "metadata": {},
   "outputs": [
    {
     "data": {
      "text/plain": [
       "17"
      ]
     },
     "execution_count": 39,
     "metadata": {},
     "output_type": "execute_result"
    }
   ],
   "source": [
    "(3*4)+5"
   ]
  },
  {
   "cell_type": "markdown",
   "id": "bee2ff34-fda3-4ee5-a1fd-181d3f878f89",
   "metadata": {},
   "source": [
    "This expression will convert 200 minutes into hours by dividing by 60"
   ]
  },
  {
   "cell_type": "code",
   "execution_count": 42,
   "id": "57722b3e-30cc-40c7-b068-010020677780",
   "metadata": {},
   "outputs": [
    {
     "data": {
      "text/plain": [
       "3.3333333333333335"
      ]
     },
     "execution_count": 42,
     "metadata": {},
     "output_type": "execute_result"
    }
   ],
   "source": [
    "200/60"
   ]
  },
  {
   "cell_type": "markdown",
   "id": "5d464237-67cc-485b-aed2-a98c78739d88",
   "metadata": {},
   "source": [
    "## Author\n",
    "Larry McKeon\n"
   ]
  },
  {
   "cell_type": "code",
   "execution_count": null,
   "id": "fe4c2ab5-21a4-435f-97b9-6f88543b0dfe",
   "metadata": {},
   "outputs": [],
   "source": []
  }
 ],
 "metadata": {
  "kernelspec": {
   "display_name": "Python 3 (ipykernel)",
   "language": "python",
   "name": "python3"
  },
  "language_info": {
   "codemirror_mode": {
    "name": "ipython",
    "version": 3
   },
   "file_extension": ".py",
   "mimetype": "text/x-python",
   "name": "python",
   "nbconvert_exporter": "python",
   "pygments_lexer": "ipython3",
   "version": "3.12.4"
  }
 },
 "nbformat": 4,
 "nbformat_minor": 5
}
